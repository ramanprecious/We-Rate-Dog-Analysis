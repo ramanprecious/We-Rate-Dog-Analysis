{
 "cells": [
  {
   "cell_type": "markdown",
   "metadata": {},
   "source": [
    "## Report: act_report\n",
    "* Create a **250-word-minimum written report** called \"act_report.pdf\" or \"act_report.html\" that communicates the insights and displays the visualization(s) produced from your wrangled data. This is to be framed as an external document, like a blog post or magazine article, for example."
   ]
  },
  {
   "cell_type": "markdown",
   "metadata": {},
   "source": [
    "**Exploratory Data Analysis (EDA)** is a way of examining, investigating, and summarizing data sets' major properties, which frequently involves the use of data visualization techniques. It assists data analysts in determining how to best modify data sources to obtain the answers they require, making it easier for them to uncover patterns, abnormalities, and outliers.\n",
    "\n",
    "After wrangling and saving the cleaned dataset collected from WeRateDogs, several research questions were asked to ensure the maximal utilization from it, after which visualizations and insights were developed. These questions are:\n",
    "\n",
    "> 1. How optimized is the image recognition algorithm model?\n",
    "> 2. Which dog name(s) is the most popular?\n",
    "> 3. Which dog name(s) is the least popular?\n",
    "> 4. Which dog breed is the most popular?\n",
    "> 5. Which dog breed has the highest and lowest average ratings?\n",
    "> 6. Which dog stage has the highest average favorite and retweet count?\n",
    "> 7. Which dog stage is largely dominant in the dataset?\n",
    "> 8. Which dog breed has the highest average favorite and retweet count?\n"
   ]
  },
  {
   "cell_type": "code",
   "execution_count": 1,
   "metadata": {},
   "outputs": [],
   "source": [
    "import pandas as pd\n",
    "import numpy as np\n",
    "import requests\n",
    "import json\n",
    "import os\n",
    "import numpy as np\n",
    "import matplotlib.pyplot as plt\n",
    "%matplotlib inline"
   ]
  },
  {
   "cell_type": "code",
   "execution_count": 3,
   "metadata": {},
   "outputs": [
    {
     "data": {
      "text/html": [
       "<div>\n",
       "<style scoped>\n",
       "    .dataframe tbody tr th:only-of-type {\n",
       "        vertical-align: middle;\n",
       "    }\n",
       "\n",
       "    .dataframe tbody tr th {\n",
       "        vertical-align: top;\n",
       "    }\n",
       "\n",
       "    .dataframe thead th {\n",
       "        text-align: right;\n",
       "    }\n",
       "</style>\n",
       "<table border=\"1\" class=\"dataframe\">\n",
       "  <thead>\n",
       "    <tr style=\"text-align: right;\">\n",
       "      <th></th>\n",
       "      <th>tweet_id</th>\n",
       "      <th>timestamp</th>\n",
       "      <th>rating_numerator</th>\n",
       "      <th>rating_denominator</th>\n",
       "      <th>dog_name</th>\n",
       "      <th>tweet_link</th>\n",
       "      <th>dog_stage</th>\n",
       "      <th>dog_breed</th>\n",
       "      <th>image_prediction_confidence</th>\n",
       "      <th>is_dog</th>\n",
       "      <th>retweet_count</th>\n",
       "      <th>favorite_count</th>\n",
       "    </tr>\n",
       "  </thead>\n",
       "  <tbody>\n",
       "    <tr>\n",
       "      <th>468</th>\n",
       "      <td>770787852854652928</td>\n",
       "      <td>2016-08-31 00:58:39</td>\n",
       "      <td>10.0</td>\n",
       "      <td>10</td>\n",
       "      <td>Winston</td>\n",
       "      <td>https://t.co/d0QEbp78Yi</td>\n",
       "      <td>NaN</td>\n",
       "      <td>bernese_mountain_dog</td>\n",
       "      <td>0.787812</td>\n",
       "      <td>True</td>\n",
       "      <td>1415</td>\n",
       "      <td>5498</td>\n",
       "    </tr>\n",
       "  </tbody>\n",
       "</table>\n",
       "</div>"
      ],
      "text/plain": [
       "               tweet_id            timestamp  rating_numerator  \\\n",
       "468  770787852854652928  2016-08-31 00:58:39              10.0   \n",
       "\n",
       "     rating_denominator  dog_name               tweet_link dog_stage  \\\n",
       "468                  10   Winston  https://t.co/d0QEbp78Yi       NaN   \n",
       "\n",
       "                dog_breed  image_prediction_confidence  is_dog  retweet_count  \\\n",
       "468  bernese_mountain_dog                     0.787812    True           1415   \n",
       "\n",
       "     favorite_count  \n",
       "468            5498  "
      ]
     },
     "execution_count": 3,
     "metadata": {},
     "output_type": "execute_result"
    }
   ],
   "source": [
    "# Read dataset on a pandas dataframe\n",
    "df = pd.read_csv('twitter_archive_master.csv')\n",
    "df.sample()"
   ]
  },
  {
   "cell_type": "markdown",
   "metadata": {},
   "source": [
    "###### Question one"
   ]
  },
  {
   "cell_type": "code",
   "execution_count": 8,
   "metadata": {},
   "outputs": [
    {
     "data": {
      "image/png": "[encoded data removed]",
      "text/plain": [
       "<matplotlib.figure.Figure at 0x7f69e54b12b0>"
      ]
     },
     "metadata": {
      "needs_background": "light"
     },
     "output_type": "display_data"
    }
   ],
   "source": [
    "bins = [0,0.2,0.5,0.7,0.9,1.0]\n",
    "labels = ['Very-low confidence', 'Low confidence','Medium confidence','High confidence','Exact match']\n",
    "\n",
    "conf_level = pd.cut(df['image_prediction_confidence'],bins = bins, labels = labels, right = False)\n",
    "conf_level = conf_level.value_counts()\n",
    "conf_level.plot(kind = 'barh');\n",
    "plt.xlabel(\"Frequency\")\n",
    "plt.ylabel(\"Confidence level\")\n",
    "plt.title(\"Frequency of confidence levels\");"
   ]
  },
  {
   "cell_type": "markdown",
   "metadata": {},
   "source": [
    "**Insight:** The image recognition model requires more optimization for effective and more efficient recognition as images with low confidence interval are higher tha other categories."
   ]
  },
  {
   "cell_type": "markdown",
   "metadata": {},
   "source": [
    "###### Question two"
   ]
  },
  {
   "cell_type": "code",
   "execution_count": 9,
   "metadata": {},
   "outputs": [
    {
     "data": {
      "image/png": "[encoded data removed]",
      "text/plain": [
       "<matplotlib.figure.Figure at 0x7f69e5494b70>"
      ]
     },
     "metadata": {
      "needs_background": "light"
     },
     "output_type": "display_data"
    }
   ],
   "source": [
    "column = df.dog_name\n",
    "def PopularVis(column):\n",
    "    Pop = column.value_counts().head()\n",
    "    Pop.plot(kind= 'bar')\n",
    "    plt.show();\n",
    "    \n",
    "plt.xlabel(\"Dog names\")\n",
    "plt.ylabel(\"Frequency\")\n",
    "plt.title(\"Frequency of Dog names\");\n",
    "    \n",
    "\n",
    "PopularVis(column)"
   ]
  },
  {
   "cell_type": "markdown",
   "metadata": {},
   "source": [
    "**Insight:** Many people prefer the names 'Charlie' and 'Cooper' for their dogs"
   ]
  },
  {
   "cell_type": "markdown",
   "metadata": {},
   "source": [
    "**Question three**"
   ]
  },
  {
   "cell_type": "code",
   "execution_count": 10,
   "metadata": {},
   "outputs": [
    {
     "data": {
      "text/html": [
       "<div>\n",
       "<style scoped>\n",
       "    .dataframe tbody tr th:only-of-type {\n",
       "        vertical-align: middle;\n",
       "    }\n",
       "\n",
       "    .dataframe tbody tr th {\n",
       "        vertical-align: top;\n",
       "    }\n",
       "\n",
       "    .dataframe thead th {\n",
       "        text-align: right;\n",
       "    }\n",
       "</style>\n",
       "<table border=\"1\" class=\"dataframe\">\n",
       "  <thead>\n",
       "    <tr style=\"text-align: right;\">\n",
       "      <th></th>\n",
       "      <th>count</th>\n",
       "    </tr>\n",
       "    <tr>\n",
       "      <th>dog_name</th>\n",
       "      <th></th>\n",
       "    </tr>\n",
       "  </thead>\n",
       "  <tbody>\n",
       "    <tr>\n",
       "      <th>Ace</th>\n",
       "      <td>1</td>\n",
       "    </tr>\n",
       "    <tr>\n",
       "      <th>Acro</th>\n",
       "      <td>1</td>\n",
       "    </tr>\n",
       "    <tr>\n",
       "      <th>Adele</th>\n",
       "      <td>1</td>\n",
       "    </tr>\n",
       "    <tr>\n",
       "      <th>Aiden</th>\n",
       "      <td>1</td>\n",
       "    </tr>\n",
       "    <tr>\n",
       "      <th>Aja</th>\n",
       "      <td>1</td>\n",
       "    </tr>\n",
       "    <tr>\n",
       "      <th>Akumi</th>\n",
       "      <td>1</td>\n",
       "    </tr>\n",
       "    <tr>\n",
       "      <th>Albert</th>\n",
       "      <td>1</td>\n",
       "    </tr>\n",
       "    <tr>\n",
       "      <th>Aldrick</th>\n",
       "      <td>1</td>\n",
       "    </tr>\n",
       "    <tr>\n",
       "      <th>Alejandro</th>\n",
       "      <td>1</td>\n",
       "    </tr>\n",
       "    <tr>\n",
       "      <th>Alexander</th>\n",
       "      <td>1</td>\n",
       "    </tr>\n",
       "    <tr>\n",
       "      <th>Alexanderson</th>\n",
       "      <td>1</td>\n",
       "    </tr>\n",
       "    <tr>\n",
       "      <th>Alf</th>\n",
       "      <td>1</td>\n",
       "    </tr>\n",
       "    <tr>\n",
       "      <th>Alfy</th>\n",
       "      <td>1</td>\n",
       "    </tr>\n",
       "    <tr>\n",
       "      <th>Amber</th>\n",
       "      <td>1</td>\n",
       "    </tr>\n",
       "    <tr>\n",
       "      <th>Ambrose</th>\n",
       "      <td>1</td>\n",
       "    </tr>\n",
       "    <tr>\n",
       "      <th>Amy</th>\n",
       "      <td>1</td>\n",
       "    </tr>\n",
       "    <tr>\n",
       "      <th>Andru</th>\n",
       "      <td>1</td>\n",
       "    </tr>\n",
       "    <tr>\n",
       "      <th>Andy</th>\n",
       "      <td>1</td>\n",
       "    </tr>\n",
       "    <tr>\n",
       "      <th>Angel</th>\n",
       "      <td>1</td>\n",
       "    </tr>\n",
       "    <tr>\n",
       "      <th>Anna</th>\n",
       "      <td>1</td>\n",
       "    </tr>\n",
       "    <tr>\n",
       "      <th>Apollo</th>\n",
       "      <td>1</td>\n",
       "    </tr>\n",
       "    <tr>\n",
       "      <th>Aqua</th>\n",
       "      <td>1</td>\n",
       "    </tr>\n",
       "    <tr>\n",
       "      <th>Arlen</th>\n",
       "      <td>1</td>\n",
       "    </tr>\n",
       "    <tr>\n",
       "      <th>Arlo</th>\n",
       "      <td>1</td>\n",
       "    </tr>\n",
       "    <tr>\n",
       "      <th>Arnie</th>\n",
       "      <td>1</td>\n",
       "    </tr>\n",
       "    <tr>\n",
       "      <th>Arya</th>\n",
       "      <td>1</td>\n",
       "    </tr>\n",
       "    <tr>\n",
       "      <th>Ashleigh</th>\n",
       "      <td>1</td>\n",
       "    </tr>\n",
       "    <tr>\n",
       "      <th>Astrid</th>\n",
       "      <td>1</td>\n",
       "    </tr>\n",
       "    <tr>\n",
       "      <th>Atticus</th>\n",
       "      <td>1</td>\n",
       "    </tr>\n",
       "    <tr>\n",
       "      <th>Aubie</th>\n",
       "      <td>1</td>\n",
       "    </tr>\n",
       "    <tr>\n",
       "      <th>...</th>\n",
       "      <td>...</td>\n",
       "    </tr>\n",
       "    <tr>\n",
       "      <th>Willie</th>\n",
       "      <td>1</td>\n",
       "    </tr>\n",
       "    <tr>\n",
       "      <th>Willow</th>\n",
       "      <td>1</td>\n",
       "    </tr>\n",
       "    <tr>\n",
       "      <th>Willy</th>\n",
       "      <td>1</td>\n",
       "    </tr>\n",
       "    <tr>\n",
       "      <th>Winifred</th>\n",
       "      <td>1</td>\n",
       "    </tr>\n",
       "    <tr>\n",
       "      <th>Wishes</th>\n",
       "      <td>1</td>\n",
       "    </tr>\n",
       "    <tr>\n",
       "      <th>Yoda</th>\n",
       "      <td>1</td>\n",
       "    </tr>\n",
       "    <tr>\n",
       "      <th>Zara</th>\n",
       "      <td>1</td>\n",
       "    </tr>\n",
       "    <tr>\n",
       "      <th>Zeek</th>\n",
       "      <td>1</td>\n",
       "    </tr>\n",
       "    <tr>\n",
       "      <th>Zeus</th>\n",
       "      <td>1</td>\n",
       "    </tr>\n",
       "    <tr>\n",
       "      <th>Ziva</th>\n",
       "      <td>1</td>\n",
       "    </tr>\n",
       "    <tr>\n",
       "      <th>Zoe</th>\n",
       "      <td>1</td>\n",
       "    </tr>\n",
       "    <tr>\n",
       "      <th>Zooey</th>\n",
       "      <td>1</td>\n",
       "    </tr>\n",
       "    <tr>\n",
       "      <th>Alfonso</th>\n",
       "      <td>1</td>\n",
       "    </tr>\n",
       "    <tr>\n",
       "      <th>Alfredo</th>\n",
       "      <td>1</td>\n",
       "    </tr>\n",
       "    <tr>\n",
       "      <th>Berta</th>\n",
       "      <td>1</td>\n",
       "    </tr>\n",
       "    <tr>\n",
       "      <th>Cheryl</th>\n",
       "      <td>1</td>\n",
       "    </tr>\n",
       "    <tr>\n",
       "      <th>Chuk</th>\n",
       "      <td>1</td>\n",
       "    </tr>\n",
       "    <tr>\n",
       "      <th>Guss</th>\n",
       "      <td>1</td>\n",
       "    </tr>\n",
       "    <tr>\n",
       "      <th>Hemry</th>\n",
       "      <td>1</td>\n",
       "    </tr>\n",
       "    <tr>\n",
       "      <th>Jacob</th>\n",
       "      <td>1</td>\n",
       "    </tr>\n",
       "    <tr>\n",
       "      <th>Jessiga</th>\n",
       "      <td>1</td>\n",
       "    </tr>\n",
       "    <tr>\n",
       "      <th>Johm</th>\n",
       "      <td>1</td>\n",
       "    </tr>\n",
       "    <tr>\n",
       "      <th>Klint</th>\n",
       "      <td>1</td>\n",
       "    </tr>\n",
       "    <tr>\n",
       "      <th>Kohl</th>\n",
       "      <td>1</td>\n",
       "    </tr>\n",
       "    <tr>\n",
       "      <th>Leroi</th>\n",
       "      <td>1</td>\n",
       "    </tr>\n",
       "    <tr>\n",
       "      <th>Octaviath</th>\n",
       "      <td>1</td>\n",
       "    </tr>\n",
       "    <tr>\n",
       "      <th>Rufus</th>\n",
       "      <td>1</td>\n",
       "    </tr>\n",
       "    <tr>\n",
       "      <th>Tickles</th>\n",
       "      <td>1</td>\n",
       "    </tr>\n",
       "    <tr>\n",
       "      <th>Wylie</th>\n",
       "      <td>1</td>\n",
       "    </tr>\n",
       "    <tr>\n",
       "      <th>Zeus</th>\n",
       "      <td>1</td>\n",
       "    </tr>\n",
       "  </tbody>\n",
       "</table>\n",
       "<p>596 rows × 1 columns</p>\n",
       "</div>"
      ],
      "text/plain": [
       "               count\n",
       "dog_name            \n",
       " Ace               1\n",
       " Acro              1\n",
       " Adele             1\n",
       " Aiden             1\n",
       " Aja               1\n",
       " Akumi             1\n",
       " Albert            1\n",
       " Aldrick           1\n",
       " Alejandro         1\n",
       " Alexander         1\n",
       " Alexanderson      1\n",
       " Alf               1\n",
       " Alfy              1\n",
       " Amber             1\n",
       " Ambrose           1\n",
       " Amy               1\n",
       " Andru             1\n",
       " Andy              1\n",
       " Angel             1\n",
       " Anna              1\n",
       " Apollo            1\n",
       " Aqua              1\n",
       " Arlen             1\n",
       " Arlo              1\n",
       " Arnie             1\n",
       " Arya              1\n",
       " Ashleigh          1\n",
       " Astrid            1\n",
       " Atticus           1\n",
       " Aubie             1\n",
       "...              ...\n",
       " Willie            1\n",
       " Willow            1\n",
       " Willy             1\n",
       " Winifred          1\n",
       " Wishes            1\n",
       " Yoda              1\n",
       " Zara              1\n",
       " Zeek              1\n",
       " Zeus              1\n",
       " Ziva              1\n",
       " Zoe               1\n",
       " Zooey             1\n",
       "Alfonso            1\n",
       "Alfredo            1\n",
       "Berta              1\n",
       "Cheryl             1\n",
       "Chuk               1\n",
       "Guss               1\n",
       "Hemry              1\n",
       "Jacob              1\n",
       "Jessiga            1\n",
       "Johm               1\n",
       "Klint              1\n",
       "Kohl               1\n",
       "Leroi              1\n",
       "Octaviath          1\n",
       "Rufus              1\n",
       "Tickles            1\n",
       "Wylie              1\n",
       "Zeus               1\n",
       "\n",
       "[596 rows x 1 columns]"
      ]
     },
     "execution_count": 10,
     "metadata": {},
     "output_type": "execute_result"
    }
   ],
   "source": [
    "Least_dogname = df.query('dog_name == dog_name')\n",
    "Least_dogname = Least_dogname.groupby('dog_name').count()[['is_dog']]\n",
    "Least_dogname.rename(columns ={ 'is_dog' : 'count'}, inplace = True)\n",
    "Least_dogname = Least_dogname.query('count <= 1')\n",
    "Least_dogname"
   ]
  },
  {
   "cell_type": "markdown",
   "metadata": {},
   "source": [
    "**Insight:** There are 596 least popular dog names in the dataset which indicates that people prefer to give their dogs unique names."
   ]
  },
  {
   "cell_type": "markdown",
   "metadata": {},
   "source": [
    "**Question four**"
   ]
  },
  {
   "cell_type": "code",
   "execution_count": 11,
   "metadata": {},
   "outputs": [
    {
     "data": {
      "image/png": "[encoded data removed]",
      "text/plain": [
       "<matplotlib.figure.Figure at 0x7f6a10f14b00>"
      ]
     },
     "metadata": {
      "needs_background": "light"
     },
     "output_type": "display_data"
    }
   ],
   "source": [
    "column = df['dog_breed']\n",
    "PopularVis(column)"
   ]
  },
  {
   "cell_type": "markdown",
   "metadata": {},
   "source": [
    "**Insight:** The above visualization shows that dog lovers have a general preference for the golden retriever breed "
   ]
  },
  {
   "cell_type": "markdown",
   "metadata": {},
   "source": [
    "**Question five**"
   ]
  },
  {
   "cell_type": "code",
   "execution_count": 13,
   "metadata": {},
   "outputs": [
    {
     "data": {
      "image/png": "[encoded data removed]",
      "text/plain": [
       "<matplotlib.figure.Figure at 0x7f69e53753c8>"
      ]
     },
     "metadata": {
      "needs_background": "light"
     },
     "output_type": "display_data"
    }
   ],
   "source": [
    "dog_ratingslow = df.groupby('dog_breed').rating_numerator.mean().sort_values().head(5)\n",
    "dog_ratingslow.plot(kind = 'bar')\n",
    "plt.xlabel(\"Dog breeds\")\n",
    "plt.ylabel(\"Average Ratings\")\n",
    "plt.title(\"Average rating per dog breed\");"
   ]
  },
  {
   "cell_type": "code",
   "execution_count": 15,
   "metadata": {},
   "outputs": [
    {
     "data": {
      "image/png": "[encoded data removed]",
      "text/plain": [
       "<matplotlib.figure.Figure at 0x7f69e4ec1160>"
      ]
     },
     "metadata": {
      "needs_background": "light"
     },
     "output_type": "display_data"
    }
   ],
   "source": [
    "dog_ratingshigh = df.groupby('dog_breed').rating_numerator.mean().sort_values().tail(5)\n",
    "dog_ratingshigh.plot(kind = 'barh')\n",
    "plt.xlabel(\"Dog breeds\")\n",
    "plt.ylabel(\"Average Ratings\")\n",
    "plt.title(\"Average rating per dog breed\");"
   ]
  },
  {
   "cell_type": "markdown",
   "metadata": {},
   "source": [
    "**Insight:** The Saluki breed has the highest average rating and Japanese spaniel has the lowest average rating. This shows that there is a general love and preference for the Saluki dog breed."
   ]
  },
  {
   "cell_type": "markdown",
   "metadata": {},
   "source": [
    "**Question six**"
   ]
  },
  {
   "cell_type": "code",
   "execution_count": 16,
   "metadata": {},
   "outputs": [
    {
     "data": {
      "text/plain": [
       "dog_stage\n",
       "pupper     2557.027778\n",
       "floofer    4968.714286\n",
       "puppo      6551.473684\n",
       "doggo      7594.854167\n",
       "Name: retweet_count, dtype: float64"
      ]
     },
     "execution_count": 16,
     "metadata": {},
     "output_type": "execute_result"
    }
   ],
   "source": [
    "df.groupby('dog_stage').retweet_count.mean().sort_values()"
   ]
  },
  {
   "cell_type": "code",
   "execution_count": 17,
   "metadata": {},
   "outputs": [
    {
     "data": {
      "text/plain": [
       "dog_stage\n",
       "pupper      8048.430556\n",
       "floofer    13206.000000\n",
       "doggo      20556.354167\n",
       "puppo      22308.210526\n",
       "Name: favorite_count, dtype: float64"
      ]
     },
     "execution_count": 17,
     "metadata": {},
     "output_type": "execute_result"
    }
   ],
   "source": [
    "df.groupby('dog_stage').favorite_count.mean().sort_values()"
   ]
  },
  {
   "cell_type": "markdown",
   "metadata": {},
   "source": [
    "**Insight:** There is general preference for dogs at the doggo and puppo stages"
   ]
  },
  {
   "cell_type": "markdown",
   "metadata": {},
   "source": [
    "**Question seven**"
   ]
  },
  {
   "cell_type": "code",
   "execution_count": 18,
   "metadata": {},
   "outputs": [
    {
     "data": {
      "image/png": "[encoded data removed]",
      "text/plain": [
       "<matplotlib.figure.Figure at 0x7f69e4ec8f28>"
      ]
     },
     "metadata": {},
     "output_type": "display_data"
    }
   ],
   "source": [
    "df['dog_stage'].value_counts().plot(kind = 'pie', autopct = '%1.1f.%%', startangle = 90);"
   ]
  },
  {
   "cell_type": "markdown",
   "metadata": {},
   "source": [
    "**Insight:** Majority of the dogs in the dataset are pupper"
   ]
  },
  {
   "cell_type": "markdown",
   "metadata": {},
   "source": [
    "**Question eight**"
   ]
  },
  {
   "cell_type": "code",
   "execution_count": 19,
   "metadata": {},
   "outputs": [
    {
     "data": {
      "text/plain": [
       "dog_breed\n",
       "curly-coated_retriever         270.500000\n",
       "brabancon_griffon              287.666667\n",
       "groenendael                    413.000000\n",
       "ibizan_hound                   431.000000\n",
       "japanese_spaniel               471.000000\n",
       "welsh_springer_spaniel         517.000000\n",
       "tibetan_terrier                557.750000\n",
       "entlebucher                    706.000000\n",
       "soft-coated_wheaten_terrier    736.250000\n",
       "scottish_deerhound             764.333333\n",
       "Name: retweet_count, dtype: float64"
      ]
     },
     "execution_count": 19,
     "metadata": {},
     "output_type": "execute_result"
    }
   ],
   "source": [
    "df.groupby('dog_breed').retweet_count.mean().sort_values().head(10)"
   ]
  },
  {
   "cell_type": "code",
   "execution_count": 20,
   "metadata": {},
   "outputs": [
    {
     "data": {
      "text/plain": [
       "dog_breed\n",
       "brabancon_griffon               885.000000\n",
       "curly-coated_retriever          967.500000\n",
       "ibizan_hound                   1114.666667\n",
       "japanese_spaniel               1362.000000\n",
       "tibetan_terrier                1841.000000\n",
       "groenendael                    1896.000000\n",
       "soft-coated_wheaten_terrier    2040.625000\n",
       "standard_schnauzer             2046.000000\n",
       "scottish_deerhound             2485.666667\n",
       "lhasa                          2659.800000\n",
       "Name: favorite_count, dtype: float64"
      ]
     },
     "execution_count": 20,
     "metadata": {},
     "output_type": "execute_result"
    }
   ],
   "source": [
    "df.groupby('dog_breed').favorite_count.mean().sort_values().head(10)"
   ]
  },
  {
   "cell_type": "markdown",
   "metadata": {},
   "source": [
    "**Insight:** The 'standard poodle' dog breed has a higher average retweet count than every other stage while 'saluki' breed dominates the average favorite count category. The 'saluki' breed is generally loved.\n",
    "\n"
   ]
  },
  {
   "cell_type": "code",
   "execution_count": null,
   "metadata": {},
   "outputs": [],
   "source": []
  }
 ],
 "metadata": {
  "kernelspec": {
   "display_name": "Python 3",
   "language": "python",
   "name": "python3"
  },
  "language_info": {
   "codemirror_mode": {
    "name": "ipython",
    "version": 3
   },
   "file_extension": ".py",
   "mimetype": "text/x-python",
   "name": "python",
   "nbconvert_exporter": "python",
   "pygments_lexer": "ipython3",
   "version": "3.6.3"
  }
 },
 "nbformat": 4,
 "nbformat_minor": 2
}
